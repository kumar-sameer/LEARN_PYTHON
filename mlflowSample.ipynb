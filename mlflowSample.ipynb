{
  "nbformat": 4,
  "nbformat_minor": 0,
  "metadata": {
    "colab": {
      "name": "Untitled0.ipynb",
      "provenance": [],
      "collapsed_sections": [],
      "authorship_tag": "ABX9TyM3SXVQ2zZHbqpUhofOPtNx",
      "include_colab_link": true
    },
    "kernelspec": {
      "name": "python3",
      "display_name": "Python 3"
    }
  },
  "cells": [
    {
      "cell_type": "markdown",
      "metadata": {
        "id": "view-in-github",
        "colab_type": "text"
      },
      "source": [
        "<a href=\"https://colab.research.google.com/github/kumar-sameer/LEARN_PYTHON/blob/master/mlflowSample.ipynb\" target=\"_parent\"><img src=\"https://colab.research.google.com/assets/colab-badge.svg\" alt=\"Open In Colab\"/></a>"
      ]
    },
    {
      "cell_type": "code",
      "metadata": {
        "id": "1uWTSLvmQQca",
        "colab_type": "code",
        "colab": {}
      },
      "source": [
        "import pandas as pd\n",
        "import keras\n",
        "import numpy as np\n",
        "import matplotlib as plt"
      ],
      "execution_count": 5,
      "outputs": []
    },
    {
      "cell_type": "code",
      "metadata": {
        "id": "-2oJU2fEQsM1",
        "colab_type": "code",
        "colab": {}
      },
      "source": [
        "\n",
        "from sklearn.datasets import load_iris\n",
        "from sklearn.tree import DecisionTreeClassifier\n",
        "from sklearn.neighbors import KNeighborsClassifier\n",
        "from sklearn.model_selection import train_test_split\n",
        "from sklearn import metrics\n",
        "import mlflow\n",
        "import mlflow.sklearn"
      ],
      "execution_count": 8,
      "outputs": []
    },
    {
      "cell_type": "code",
      "metadata": {
        "id": "l5Tv_ZAHQsHz",
        "colab_type": "code",
        "colab": {
          "base_uri": "https://localhost:8080/",
          "height": 136
        },
        "outputId": "7abba0b2-44fd-4058-f13d-6b23fedc632b"
      },
      "source": [
        "data = load_iris()\n",
        "data.target"
      ],
      "execution_count": 12,
      "outputs": [
        {
          "output_type": "execute_result",
          "data": {
            "text/plain": [
              "array([0, 0, 0, 0, 0, 0, 0, 0, 0, 0, 0, 0, 0, 0, 0, 0, 0, 0, 0, 0, 0, 0,\n",
              "       0, 0, 0, 0, 0, 0, 0, 0, 0, 0, 0, 0, 0, 0, 0, 0, 0, 0, 0, 0, 0, 0,\n",
              "       0, 0, 0, 0, 0, 0, 1, 1, 1, 1, 1, 1, 1, 1, 1, 1, 1, 1, 1, 1, 1, 1,\n",
              "       1, 1, 1, 1, 1, 1, 1, 1, 1, 1, 1, 1, 1, 1, 1, 1, 1, 1, 1, 1, 1, 1,\n",
              "       1, 1, 1, 1, 1, 1, 1, 1, 1, 1, 1, 1, 2, 2, 2, 2, 2, 2, 2, 2, 2, 2,\n",
              "       2, 2, 2, 2, 2, 2, 2, 2, 2, 2, 2, 2, 2, 2, 2, 2, 2, 2, 2, 2, 2, 2,\n",
              "       2, 2, 2, 2, 2, 2, 2, 2, 2, 2, 2, 2, 2, 2, 2, 2, 2, 2])"
            ]
          },
          "metadata": {
            "tags": []
          },
          "execution_count": 12
        }
      ]
    },
    {
      "cell_type": "code",
      "metadata": {
        "id": "tNIFWLVIQsCd",
        "colab_type": "code",
        "colab": {
          "base_uri": "https://localhost:8080/",
          "height": 34
        },
        "outputId": "96303429-56c5-4307-ae4f-8c30c7f8ac29"
      },
      "source": [
        "data.target_names"
      ],
      "execution_count": 13,
      "outputs": [
        {
          "output_type": "execute_result",
          "data": {
            "text/plain": [
              "array(['setosa', 'versicolor', 'virginica'], dtype='<U10')"
            ]
          },
          "metadata": {
            "tags": []
          },
          "execution_count": 13
        }
      ]
    },
    {
      "cell_type": "code",
      "metadata": {
        "id": "H0TcXTtkQr1Z",
        "colab_type": "code",
        "colab": {
          "base_uri": "https://localhost:8080/",
          "height": 85
        },
        "outputId": "0df0684e-9669-4392-a319-bf8e6ab23211"
      },
      "source": [
        "data.feature_names"
      ],
      "execution_count": 14,
      "outputs": [
        {
          "output_type": "execute_result",
          "data": {
            "text/plain": [
              "['sepal length (cm)',\n",
              " 'sepal width (cm)',\n",
              " 'petal length (cm)',\n",
              " 'petal width (cm)']"
            ]
          },
          "metadata": {
            "tags": []
          },
          "execution_count": 14
        }
      ]
    },
    {
      "cell_type": "code",
      "metadata": {
        "id": "tGW2U6TNSTfh",
        "colab_type": "code",
        "colab": {}
      },
      "source": [
        "\n",
        "X=data.data\n",
        "y=data.target"
      ],
      "execution_count": 15,
      "outputs": []
    },
    {
      "cell_type": "code",
      "metadata": {
        "id": "lh3OBlI5STdy",
        "colab_type": "code",
        "colab": {}
      },
      "source": [
        "X_train, X_test, y_train, y_test = train_test_split(X, y, test_size=0.25, random_state=10)"
      ],
      "execution_count": 16,
      "outputs": []
    },
    {
      "cell_type": "code",
      "metadata": {
        "id": "OOTZ8FCJSTbK",
        "colab_type": "code",
        "colab": {}
      },
      "source": [
        "import matplotlib.pyplot as plt\n",
        "from mpl_toolkits.mplot3d import Axes3D\n",
        "from sklearn.decomposition import PCA\n",
        "\n",
        "X = data.data[:, :2] \n",
        "y = data.target\n",
        "\n",
        "x_min, x_max = X[:, 0].min() - .5, X[:, 0].max() + .5\n",
        "y_min, y_max = X[:, 1].min() - .5, X[:, 1].max() + .5\n",
        "plt.figure(2, figsize=(8, 6))\n",
        "plt.clf()\n",
        "\n",
        "# Plot the training points\n",
        "plt.scatter(X[:, 0], X[:, 1], c=y, cmap=plt.cm.Set1,\n",
        "            edgecolor='k')\n",
        "plt.xlabel('Sepal length')\n",
        "plt.ylabel('Sepal width')\n",
        "\n",
        "plt.xlim(x_min, x_max)\n",
        "plt.ylim(y_min, y_max)\n",
        "plt.xticks(())\n",
        "plt.yticks(())\n",
        "\n",
        "fig = plt.figure(1, figsize=(8, 6))\n",
        "ax = Axes3D(fig, elev=-150, azim=110)\n",
        "X_reduced = PCA(n_components=3).fit_transform(data.data)\n",
        "ax.scatter(X_reduced[:, 0], X_reduced[:, 1], X_reduced[:, 2], c=y,\n",
        "           cmap=plt.cm.Set1, edgecolor='k', s=40)\n",
        "ax.set_title(\"First three PCA directions\")\n",
        "ax.set_xlabel(\"1st eigenvector\")\n",
        "ax.w_xaxis.set_ticklabels([])\n",
        "ax.set_ylabel(\"2nd eigenvector\")\n",
        "ax.w_yaxis.set_ticklabels([])\n",
        "ax.set_zlabel(\"3rd eigenvector\")\n",
        "ax.w_zaxis.set_ticklabels([])\n",
        "\n",
        "fig.savefig('iris1.png')\n",
        "plt.close(fig)\n",
        "\n",
        "display()"
      ],
      "execution_count": null,
      "outputs": []
    },
    {
      "cell_type": "code",
      "metadata": {
        "id": "gDrPSGTHSTOo",
        "colab_type": "code",
        "colab": {
          "base_uri": "https://localhost:8080/",
          "height": 34
        },
        "outputId": "74e19f8a-3a48-4652-8bba-07560ee95451"
      },
      "source": [
        "with mlflow.start_run():\n",
        "  dtc = DecisionTreeClassifier(random_state=10)\n",
        "  dtc.fit(X_train, y_train)\n",
        "  y_pred_class = dtc.predict(X_test)\n",
        "  accuracy= metrics.accuracy_score(y_test, y_pred_class)\n",
        "  \n",
        "  print(accuracy)\n",
        "  \n",
        "  mlflow.log_param(\"random_state\", 10)\n",
        "  mlflow.log_metric(\"accuracy\", accuracy)\n",
        "  mlflow.sklearn.log_model(dtc, \"model\")\n",
        "  modelpath = \"/dbfs/mlflow/iris/model-%s-%f\" % (\"decision_tree\", 1)\n",
        "  mlflow.sklearn.save_model(dtc, modelpath)  \n",
        "  \n",
        "  mlflow.log_artifact(\"iris1.png\")"
      ],
      "execution_count": 18,
      "outputs": [
        {
          "output_type": "stream",
          "text": [
            "0.9736842105263158\n"
          ],
          "name": "stdout"
        }
      ]
    },
    {
      "cell_type": "code",
      "metadata": {
        "id": "YFbPgERbSlSn",
        "colab_type": "code",
        "colab": {
          "base_uri": "https://localhost:8080/",
          "height": 34
        },
        "outputId": "7da8e2b9-9cd9-4b4d-921a-2343a24b0bbe"
      },
      "source": [
        "\n",
        "with mlflow.start_run():\n",
        "  dtc = DecisionTreeClassifier(max_depth=1, random_state=10)\n",
        "  dtc.fit(X_train, y_train)\n",
        "  y_pred_class = dtc.predict(X_test)\n",
        "  accuracy= metrics.accuracy_score(y_test, y_pred_class)\n",
        "  \n",
        "  print(accuracy)\n",
        "  \n",
        "  mlflow.log_param(\"random_state\", 10)\n",
        "  mlflow.log_param(\"max_depth\", 1)\n",
        "  mlflow.log_metric(\"accuracy\", accuracy)\n",
        "  mlflow.sklearn.log_model(dtc, \"model\")\n",
        "  modelpath = \"/dbfs/mlflow/iris/model-%s-%f\" % (\"decision_tree\", 2)\n",
        "  mlflow.sklearn.save_model(dtc, modelpath)"
      ],
      "execution_count": 19,
      "outputs": [
        {
          "output_type": "stream",
          "text": [
            "0.6052631578947368\n"
          ],
          "name": "stdout"
        }
      ]
    },
    {
      "cell_type": "code",
      "metadata": {
        "id": "AUN9Re0WSoLu",
        "colab_type": "code",
        "colab": {
          "base_uri": "https://localhost:8080/",
          "height": 34
        },
        "outputId": "03bcfd11-7010-4fde-fae1-d46f9f7ee455"
      },
      "source": [
        "\n",
        "with mlflow.start_run():\n",
        "  dtc = DecisionTreeClassifier(max_depth=1, min_samples_split=5, random_state=10)\n",
        "  dtc.fit(X_train, y_train)\n",
        "  y_pred_class = dtc.predict(X_test)\n",
        "  accuracy= metrics.accuracy_score(y_test, y_pred_class)\n",
        "  \n",
        "  print(accuracy)\n",
        "  \n",
        "  mlflow.log_param(\"random_state\", 10)\n",
        "  mlflow.log_param(\"max_depth\", 1)\n",
        "  mlflow.log_param(\"min_samples_split\", 5)\n",
        "  mlflow.log_metric(\"accuracy\", accuracy)\n",
        "  mlflow.sklearn.log_model(dtc, \"model\")\n",
        "  modelpath = \"/dbfs/mlflow/iris/model-%s-%f\" % (\"decision_tree\", 3)\n",
        "  mlflow.sklearn.save_model(dtc, modelpath)"
      ],
      "execution_count": 20,
      "outputs": [
        {
          "output_type": "stream",
          "text": [
            "0.6052631578947368\n"
          ],
          "name": "stdout"
        }
      ]
    },
    {
      "cell_type": "code",
      "metadata": {
        "id": "J8CGw0a0Sxti",
        "colab_type": "code",
        "colab": {
          "base_uri": "https://localhost:8080/",
          "height": 213
        },
        "outputId": "5025930a-0338-4e8b-cf8b-482b6960fae0"
      },
      "source": [
        "mlflow.search_runs()"
      ],
      "execution_count": 23,
      "outputs": [
        {
          "output_type": "execute_result",
          "data": {
            "text/html": [
              "<div>\n",
              "<style scoped>\n",
              "    .dataframe tbody tr th:only-of-type {\n",
              "        vertical-align: middle;\n",
              "    }\n",
              "\n",
              "    .dataframe tbody tr th {\n",
              "        vertical-align: top;\n",
              "    }\n",
              "\n",
              "    .dataframe thead th {\n",
              "        text-align: right;\n",
              "    }\n",
              "</style>\n",
              "<table border=\"1\" class=\"dataframe\">\n",
              "  <thead>\n",
              "    <tr style=\"text-align: right;\">\n",
              "      <th></th>\n",
              "      <th>run_id</th>\n",
              "      <th>experiment_id</th>\n",
              "      <th>status</th>\n",
              "      <th>artifact_uri</th>\n",
              "      <th>start_time</th>\n",
              "      <th>end_time</th>\n",
              "      <th>metrics.accuracy</th>\n",
              "      <th>params.min_samples_split</th>\n",
              "      <th>params.random_state</th>\n",
              "      <th>params.max_depth</th>\n",
              "      <th>tags.mlflow.source.name</th>\n",
              "      <th>tags.mlflow.log-model.history</th>\n",
              "      <th>tags.mlflow.source.type</th>\n",
              "      <th>tags.mlflow.user</th>\n",
              "    </tr>\n",
              "  </thead>\n",
              "  <tbody>\n",
              "    <tr>\n",
              "      <th>0</th>\n",
              "      <td>9de9ff2158c243d689eb8341eace21d7</td>\n",
              "      <td>0</td>\n",
              "      <td>FINISHED</td>\n",
              "      <td>file:///content/mlruns/0/9de9ff2158c243d689eb8...</td>\n",
              "      <td>2020-07-18 18:58:17.649000+00:00</td>\n",
              "      <td>2020-07-18 18:58:17.695000+00:00</td>\n",
              "      <td>0.605263</td>\n",
              "      <td>5</td>\n",
              "      <td>10</td>\n",
              "      <td>1</td>\n",
              "      <td>/usr/local/lib/python3.6/dist-packages/ipykern...</td>\n",
              "      <td>[{\"run_id\": \"9de9ff2158c243d689eb8341eace21d7\"...</td>\n",
              "      <td>LOCAL</td>\n",
              "      <td>root</td>\n",
              "    </tr>\n",
              "    <tr>\n",
              "      <th>1</th>\n",
              "      <td>88f777dcfbb44b7fbfbc335154fb4c8f</td>\n",
              "      <td>0</td>\n",
              "      <td>FINISHED</td>\n",
              "      <td>file:///content/mlruns/0/88f777dcfbb44b7fbfbc3...</td>\n",
              "      <td>2020-07-18 18:58:04.331000+00:00</td>\n",
              "      <td>2020-07-18 18:58:04.380000+00:00</td>\n",
              "      <td>0.605263</td>\n",
              "      <td>None</td>\n",
              "      <td>10</td>\n",
              "      <td>1</td>\n",
              "      <td>/usr/local/lib/python3.6/dist-packages/ipykern...</td>\n",
              "      <td>[{\"run_id\": \"88f777dcfbb44b7fbfbc335154fb4c8f\"...</td>\n",
              "      <td>LOCAL</td>\n",
              "      <td>root</td>\n",
              "    </tr>\n",
              "    <tr>\n",
              "      <th>2</th>\n",
              "      <td>906c2f6fe85045b0b520b1bcd588b6a6</td>\n",
              "      <td>0</td>\n",
              "      <td>FINISHED</td>\n",
              "      <td>file:///content/mlruns/0/906c2f6fe85045b0b520b...</td>\n",
              "      <td>2020-07-18 18:57:52.128000+00:00</td>\n",
              "      <td>2020-07-18 18:57:52.172000+00:00</td>\n",
              "      <td>0.973684</td>\n",
              "      <td>None</td>\n",
              "      <td>10</td>\n",
              "      <td>None</td>\n",
              "      <td>/usr/local/lib/python3.6/dist-packages/ipykern...</td>\n",
              "      <td>[{\"run_id\": \"906c2f6fe85045b0b520b1bcd588b6a6\"...</td>\n",
              "      <td>LOCAL</td>\n",
              "      <td>root</td>\n",
              "    </tr>\n",
              "  </tbody>\n",
              "</table>\n",
              "</div>"
            ],
            "text/plain": [
              "                             run_id  ... tags.mlflow.user\n",
              "0  9de9ff2158c243d689eb8341eace21d7  ...             root\n",
              "1  88f777dcfbb44b7fbfbc335154fb4c8f  ...             root\n",
              "2  906c2f6fe85045b0b520b1bcd588b6a6  ...             root\n",
              "\n",
              "[3 rows x 14 columns]"
            ]
          },
          "metadata": {
            "tags": []
          },
          "execution_count": 23
        }
      ]
    },
    {
      "cell_type": "code",
      "metadata": {
        "id": "m7yXEvsjSrdF",
        "colab_type": "code",
        "colab": {
          "base_uri": "https://localhost:8080/",
          "height": 35
        },
        "outputId": "886f349b-e486-40a1-f8a5-d0f55a043a39"
      },
      "source": [
        " modelpath = \"/dbfs/mlflow/iris/model-%s-%f\" % (\"decision_tree\", 3)\n",
        " modelpath"
      ],
      "execution_count": 22,
      "outputs": [
        {
          "output_type": "execute_result",
          "data": {
            "application/vnd.google.colaboratory.intrinsic": {
              "type": "string"
            },
            "text/plain": [
              "'/dbfs/mlflow/iris/model-decision_tree-3.000000'"
            ]
          },
          "metadata": {
            "tags": []
          },
          "execution_count": 22
        }
      ]
    },
    {
      "cell_type": "code",
      "metadata": {
        "id": "qnXh4322S4Am",
        "colab_type": "code",
        "colab": {}
      },
      "source": [
        "run_id1 = \"9de9ff2158c243d689eb8341eace21d7\"\n",
        "model_uri = \"runs:/\" + run_id1 + \"/model\""
      ],
      "execution_count": 28,
      "outputs": []
    },
    {
      "cell_type": "code",
      "metadata": {
        "id": "o0LuP-hyS7gs",
        "colab_type": "code",
        "colab": {}
      },
      "source": [
        "\n",
        "model = mlflow.sklearn.load_model(model_uri=model_uri)"
      ],
      "execution_count": 29,
      "outputs": []
    },
    {
      "cell_type": "code",
      "metadata": {
        "id": "dik9Sl4WTAB4",
        "colab_type": "code",
        "colab": {
          "base_uri": "https://localhost:8080/",
          "height": 255
        },
        "outputId": "85fd566f-d421-426b-fd10-670d7ac2dfff"
      },
      "source": [
        "model.get_params()"
      ],
      "execution_count": 30,
      "outputs": [
        {
          "output_type": "execute_result",
          "data": {
            "text/plain": [
              "{'ccp_alpha': 0.0,\n",
              " 'class_weight': None,\n",
              " 'criterion': 'gini',\n",
              " 'max_depth': 1,\n",
              " 'max_features': None,\n",
              " 'max_leaf_nodes': None,\n",
              " 'min_impurity_decrease': 0.0,\n",
              " 'min_impurity_split': None,\n",
              " 'min_samples_leaf': 1,\n",
              " 'min_samples_split': 5,\n",
              " 'min_weight_fraction_leaf': 0.0,\n",
              " 'presort': 'deprecated',\n",
              " 'random_state': 10,\n",
              " 'splitter': 'best'}"
            ]
          },
          "metadata": {
            "tags": []
          },
          "execution_count": 30
        }
      ]
    },
    {
      "cell_type": "code",
      "metadata": {
        "id": "jHG3hO75TExL",
        "colab_type": "code",
        "colab": {
          "base_uri": "https://localhost:8080/",
          "height": 663
        },
        "outputId": "dc61aa33-9110-467d-8c8a-d160963efcfd"
      },
      "source": [
        "\n",
        "model.predict_proba(X_test)"
      ],
      "execution_count": 31,
      "outputs": [
        {
          "output_type": "execute_result",
          "data": {
            "text/plain": [
              "array([[0.        , 0.47945205, 0.52054795],\n",
              "       [0.        , 0.47945205, 0.52054795],\n",
              "       [1.        , 0.        , 0.        ],\n",
              "       [0.        , 0.47945205, 0.52054795],\n",
              "       [1.        , 0.        , 0.        ],\n",
              "       [0.        , 0.47945205, 0.52054795],\n",
              "       [0.        , 0.47945205, 0.52054795],\n",
              "       [0.        , 0.47945205, 0.52054795],\n",
              "       [1.        , 0.        , 0.        ],\n",
              "       [0.        , 0.47945205, 0.52054795],\n",
              "       [0.        , 0.47945205, 0.52054795],\n",
              "       [0.        , 0.47945205, 0.52054795],\n",
              "       [0.        , 0.47945205, 0.52054795],\n",
              "       [1.        , 0.        , 0.        ],\n",
              "       [1.        , 0.        , 0.        ],\n",
              "       [0.        , 0.47945205, 0.52054795],\n",
              "       [0.        , 0.47945205, 0.52054795],\n",
              "       [1.        , 0.        , 0.        ],\n",
              "       [1.        , 0.        , 0.        ],\n",
              "       [1.        , 0.        , 0.        ],\n",
              "       [0.        , 0.47945205, 0.52054795],\n",
              "       [0.        , 0.47945205, 0.52054795],\n",
              "       [0.        , 0.47945205, 0.52054795],\n",
              "       [1.        , 0.        , 0.        ],\n",
              "       [0.        , 0.47945205, 0.52054795],\n",
              "       [1.        , 0.        , 0.        ],\n",
              "       [0.        , 0.47945205, 0.52054795],\n",
              "       [0.        , 0.47945205, 0.52054795],\n",
              "       [0.        , 0.47945205, 0.52054795],\n",
              "       [0.        , 0.47945205, 0.52054795],\n",
              "       [0.        , 0.47945205, 0.52054795],\n",
              "       [0.        , 0.47945205, 0.52054795],\n",
              "       [0.        , 0.47945205, 0.52054795],\n",
              "       [0.        , 0.47945205, 0.52054795],\n",
              "       [0.        , 0.47945205, 0.52054795],\n",
              "       [1.        , 0.        , 0.        ],\n",
              "       [0.        , 0.47945205, 0.52054795],\n",
              "       [0.        , 0.47945205, 0.52054795]])"
            ]
          },
          "metadata": {
            "tags": []
          },
          "execution_count": 31
        }
      ]
    }
  ]
}